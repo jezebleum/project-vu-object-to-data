{
 "cells": [
  {
   "cell_type": "markdown",
   "metadata": {},
   "source": [
    "### Made the full merged_christmas file through this piece of code\n"
   ]
  },
  {
   "cell_type": "code",
   "execution_count": 30,
   "metadata": {},
   "outputs": [],
   "source": [
    "import glob\n",
    "import csv\n",
    "\n",
    "fout=open(\"merged_christmas.csv\",\"a\")\n",
    "# first file:\n",
    "for line in open(\"christmas_datasets/reviews_A_Christmas_Carol__Colorized___VHS_.csv\"):\n",
    "    fout.write(line)\n",
    "# now the rest:  \n",
    "\n",
    "other_movies = ['A_Christmas_Story__VHS_', 'Miracle_on_34th_Street__VHS_', 'National_Lampoon_s_Christmas_Vacation__VHS_', 'The_Chronicles_of_Narnia_-_The_Lion__the_Witch_and_the_Wardrobe', 'Tim_Burton_s_The_Nightmare_Before_Christmas__VHS_', 'White_Christmas__VHS_']\n",
    "for i in other_movies:\n",
    "    f = open(\"christmas_datasets/reviews_\"+(i)+\".csv\")\n",
    "    next(f) # skip the header\n",
    "    for line in f:\n",
    "         fout.write(line)\n",
    "    f.close() # not really needed\n",
    "fout.close()"
   ]
  },
  {
   "cell_type": "code",
   "execution_count": null,
   "metadata": {},
   "outputs": [],
   "source": []
  }
 ],
 "metadata": {
  "kernelspec": {
   "display_name": "Python 3",
   "language": "python",
   "name": "python3"
  },
  "language_info": {
   "codemirror_mode": {
    "name": "ipython",
    "version": 3
   },
   "file_extension": ".py",
   "mimetype": "text/x-python",
   "name": "python",
   "nbconvert_exporter": "python",
   "pygments_lexer": "ipython3",
   "version": "3.6.4"
  }
 },
 "nbformat": 4,
 "nbformat_minor": 2
}
